{
 "cells": [
  {
   "cell_type": "markdown",
   "id": "9bf76f7c",
   "metadata": {},
   "source": [
    "##### Run the generations of the abliterated models through a hs classifier."
   ]
  },
  {
   "cell_type": "code",
   "execution_count": null,
   "id": "f1a2182e",
   "metadata": {},
   "outputs": [],
   "source": [
    "import nltk \n",
    "import json\n",
    "import pandas as pd\n",
    "from transformers import AutoTokenizer\n",
    "from transformers import pipeline\n",
    "from datasets import Dataset\n",
    "\n",
    "nltk.download('punkt')\n",
    "hf_model_id = 'Hate-speech-CNERG/english-abusive-MuRIL'\n",
    "tokenizer = AutoTokenizer.from_pretrained(hf_model_id)\n",
    "pipe = pipeline(\"text-classification\", model=hf_model_id)\n",
    "max_token_length = 512"
   ]
  },
  {
   "cell_type": "code",
   "execution_count": null,
   "id": "a23b9bd6",
   "metadata": {},
   "outputs": [],
   "source": [
    "generation_model_id = 'Meta-Llama-3.1-8B-Instruct-abliterated'\n",
    "# generation_model_id = 'Mistral-7B-Instruct-v0.3-abliterated'\n",
    "input_path = f\"../generation_processed/{generation_model_id}.csv\"\n",
    "output_path_generation_to_sentence_mappings = f'generations/{generation_model_id}/sentence_mappings.json'\n",
    "output_path_classifier = f'generations/{generation_model_id}/results.json'\n",
    "data = pd.read_csv(input_path)\n",
    "generations = data['generated_answer'].tolist()"
   ]
  },
  {
   "cell_type": "code",
   "execution_count": null,
   "id": "07baf91b",
   "metadata": {},
   "outputs": [],
   "source": [
    "def split_into_sentences(text):\n",
    "    if not isinstance(text, str):\n",
    "        return []\n",
    "    return nltk.sent_tokenize(text)"
   ]
  },
  {
   "cell_type": "code",
   "execution_count": null,
   "id": "d2ab3634",
   "metadata": {},
   "outputs": [],
   "source": [
    "# Split into sentences\n",
    "all_sentences = []\n",
    "sentence_to_generation_map = {}  # Maps sentence indices to their original text index (text_idx: [sent_idx1, sent_idx2, ...])\n",
    "\n",
    "# Step 1: Split all texts into sentences and create mappings\n",
    "for text_idx, text in enumerate(generations):\n",
    "    sentences = split_into_sentences(text)\n",
    "    for sentence in sentences:\n",
    "        if sentence.strip():  # Skip empty sentences\n",
    "            sent_idx = len(all_sentences)\n",
    "            all_sentences.append(sentence)\n",
    "            sentence_to_generation_map[sent_idx] = text_idx"
   ]
  },
  {
   "cell_type": "code",
   "execution_count": null,
   "id": "cddc1719",
   "metadata": {},
   "outputs": [],
   "source": [
    "# Truncate longer sentences to the first 512 tokens.\n",
    "n_sentences_longer = 0\n",
    "all_sentences_truncated = []\n",
    "for sent_idx, sentence in enumerate(all_sentences):\n",
    "  sentence_num_tokens = len(tokenizer(sentence).input_ids)\n",
    "  if sentence_num_tokens > max_token_length:\n",
    "    sentence_truncated = sentence[0:1000]\n",
    "    # Need to split further.\n",
    "    n_sentences_longer += 1\n",
    "    all_sentences_truncated.append(sentence_truncated)\n",
    "  else:\n",
    "    all_sentences_truncated.append(sentence)\n",
    "\n",
    "  if sent_idx % 5000 == 0:\n",
    "    print(f\"Processed {sent_idx} / {len(all_sentences)} sentences\")\n",
    "\n",
    "print(f\"Number of sentences that had to be truncated: {n_sentences_longer}\")"
   ]
  },
  {
   "cell_type": "code",
   "execution_count": null,
   "id": "e7a8d907",
   "metadata": {},
   "outputs": [],
   "source": [
    "data = {\"text\": all_sentences_truncated}\n",
    "# Create the dataset\n",
    "hf_dataset = Dataset.from_dict(data)"
   ]
  },
  {
   "cell_type": "code",
   "execution_count": null,
   "id": "d03e1c72",
   "metadata": {},
   "outputs": [],
   "source": [
    "# Extract HS Classifications using the pipeline\n",
    "batch_size = 16\n",
    "results = pipe(hf_dataset[\"text\"], batch_size=batch_size)"
   ]
  },
  {
   "cell_type": "code",
   "execution_count": null,
   "id": "6ffc6340",
   "metadata": {},
   "outputs": [],
   "source": [
    "# Save results \n",
    "with open(output_path_generation_to_sentence_mappings, \"w\") as f:\n",
    "    json.dump(sentence_to_generation_map, f)\n",
    "print(f\"Sentence mappings saved to {output_path_generation_to_sentence_mappings}\")\n",
    "\n",
    "with open(output_path_classifier, \"w\") as f:\n",
    "    json.dump(results, f)\n",
    "print(f\"Results saved to {output_path_classifier}\")"
   ]
  }
 ],
 "metadata": {
  "kernelspec": {
   "display_name": "ups_env",
   "language": "python",
   "name": "python3"
  },
  "language_info": {
   "codemirror_mode": {
    "name": "ipython",
    "version": 3
   },
   "file_extension": ".py",
   "mimetype": "text/x-python",
   "name": "python",
   "nbconvert_exporter": "python",
   "pygments_lexer": "ipython3",
   "version": "3.12.2"
  }
 },
 "nbformat": 4,
 "nbformat_minor": 5
}
